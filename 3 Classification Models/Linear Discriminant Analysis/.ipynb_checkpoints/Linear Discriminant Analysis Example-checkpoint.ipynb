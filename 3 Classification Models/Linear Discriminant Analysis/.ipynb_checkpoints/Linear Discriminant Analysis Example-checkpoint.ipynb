{
 "cells": [
  {
   "cell_type": "code",
   "execution_count": 55,
   "id": "c4e62302",
   "metadata": {},
   "outputs": [],
   "source": [
    "# STEP 1: LOADING THE DATA FRAME\n",
    "\n",
    "# importing relevent libraries\n",
    "import pandas as pd\n",
    "import seaborn as sns\n",
    "import numpy as np\n",
    "import statistics as stats\n",
    "from sklearn.linear_model import LogisticRegression\n",
    "import statsmodels.api as sn\n",
    "import statsmodels.discrete.discrete_model as sm\n",
    "from sklearn.metrics import confusion_matrix\n",
    "from sklearn.metrics import precision_score, recall_score\n",
    "from sklearn.metrics import roc_auc_score\n",
    "\n",
    "# reading our data frame\n",
    "data = pd.read_csv(\"House-Price.csv\", header = 0)\n",
    "\n",
    "# Transforming variables\n",
    "sums = [data.dist1, data.dist2, data.dist3, data.dist4]\n",
    "data['avg_dis'] = sum(sums) / len(sums)\n",
    "del data['dist1']\n",
    "del data['dist2']\n",
    "del data['dist3']\n",
    "del data['dist4']\n",
    "\n",
    "# Removing outliers\n",
    "data.n_hos_beds = data.n_hos_beds.fillna(data.n_hos_beds.mean())\n",
    "\n",
    "# Adding Dummy variables\n",
    "data = pd.get_dummies(data)\n",
    "del data[\"airport_NO\"]\n",
    "del data[\"waterbody_None\"]"
   ]
  },
  {
   "cell_type": "code",
   "execution_count": 20,
   "id": "d5858270",
   "metadata": {},
   "outputs": [],
   "source": [
    "# independent variable\n",
    "x = data[['price']]\n",
    "x.head()\n",
    "\n",
    "\n",
    "# dependent variable\n",
    "y = data['Sold']"
   ]
  },
  {
   "cell_type": "markdown",
   "id": "e00555a6",
   "metadata": {},
   "source": [
    "# Linear Discriminant Analysis with SINGLE predictor"
   ]
  },
  {
   "cell_type": "markdown",
   "id": "369c8ce6",
   "metadata": {},
   "source": [
    "# Logistic Regression with MULTIPLE predictors"
   ]
  },
  {
   "cell_type": "markdown",
   "id": "0293301a",
   "metadata": {},
   "source": [
    "# Confusion Matrix and evaluating performance"
   ]
  },
  {
   "cell_type": "code",
   "execution_count": null,
   "id": "fd1739e0",
   "metadata": {},
   "outputs": [],
   "source": []
  }
 ],
 "metadata": {
  "kernelspec": {
   "display_name": "Python 3 (ipykernel)",
   "language": "python",
   "name": "python3"
  },
  "language_info": {
   "codemirror_mode": {
    "name": "ipython",
    "version": 3
   },
   "file_extension": ".py",
   "mimetype": "text/x-python",
   "name": "python",
   "nbconvert_exporter": "python",
   "pygments_lexer": "ipython3",
   "version": "3.9.6"
  }
 },
 "nbformat": 4,
 "nbformat_minor": 5
}
