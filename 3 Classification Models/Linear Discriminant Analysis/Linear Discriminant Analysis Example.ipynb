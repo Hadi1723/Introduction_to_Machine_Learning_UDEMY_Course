{
 "cells": [
  {
   "cell_type": "code",
   "execution_count": 3,
   "id": "c4e62302",
   "metadata": {},
   "outputs": [],
   "source": [
    "# STEP 1: LOADING THE DATA FRAME\n",
    "\n",
    "# importing relevent libraries\n",
    "import pandas as pd\n",
    "import seaborn as sns\n",
    "import numpy as np\n",
    "import statistics as stats\n",
    "from sklearn.discriminant_analysis import LinearDiscriminantAnalysis\n",
    "import statsmodels.api as sn\n",
    "import statsmodels.discrete.discrete_model as sm\n",
    "from sklearn.metrics import confusion_matrix\n",
    "from sklearn.metrics import precision_score, recall_score\n",
    "from sklearn.metrics import roc_auc_score\n",
    "\n",
    "# reading our data frame\n",
    "data = pd.read_csv(\"House-Price.csv\", header = 0)\n",
    "\n",
    "# Transforming variables\n",
    "sums = [data.dist1, data.dist2, data.dist3, data.dist4]\n",
    "data['avg_dis'] = sum(sums) / len(sums)\n",
    "del data['dist1']\n",
    "del data['dist2']\n",
    "del data['dist3']\n",
    "del data['dist4']\n",
    "\n",
    "# Removing outliers\n",
    "data.n_hos_beds = data.n_hos_beds.fillna(data.n_hos_beds.mean())\n",
    "\n",
    "# Adding Dummy variables\n",
    "data = pd.get_dummies(data)\n",
    "del data[\"airport_NO\"]\n",
    "del data[\"waterbody_None\"]"
   ]
  },
  {
   "cell_type": "code",
   "execution_count": 4,
   "id": "d5858270",
   "metadata": {},
   "outputs": [],
   "source": [
    "# independent variable\n",
    "x = data[['price']]\n",
    "x.head()\n",
    "\n",
    "\n",
    "# dependent variable\n",
    "y = data['Sold']"
   ]
  },
  {
   "cell_type": "markdown",
   "id": "e00555a6",
   "metadata": {},
   "source": [
    "# Linear Discriminant Analysis with SINGLE predictor"
   ]
  },
  {
   "cell_type": "code",
   "execution_count": 7,
   "id": "054e89bf",
   "metadata": {},
   "outputs": [
    {
     "data": {
      "text/plain": [
       "array([0, 0, 0, 0, 0, 0, 0, 0, 1, 0, 1, 0, 0, 0, 0, 0, 0, 0, 0, 0, 1, 0,\n",
       "       1, 1, 1, 1, 1, 1, 0, 0, 1, 1, 1, 1, 1, 0, 0, 0, 0, 0, 0, 0, 0, 0,\n",
       "       0, 0, 0, 1, 1, 0, 0, 0, 0, 0, 0, 0, 0, 0, 0, 0, 0, 1, 0, 0, 0, 0,\n",
       "       0, 0, 0, 0, 0, 0, 0, 0, 0, 0, 0, 0, 0, 0, 0, 0, 0, 0, 0, 0, 0, 0,\n",
       "       0, 0, 0, 0, 0, 0, 0, 0, 0, 0, 0, 0, 0, 0, 0, 0, 0, 0, 0, 0, 0, 0,\n",
       "       0, 0, 0, 0, 0, 0, 0, 0, 0, 0, 0, 0, 0, 0, 0, 0, 1, 1, 0, 1, 0, 0,\n",
       "       0, 0, 1, 0, 0, 1, 1, 0, 1, 1, 1, 1, 1, 1, 1, 1, 0, 1, 0, 0, 1, 0,\n",
       "       1, 1, 1, 0, 0, 0, 0, 0, 0, 0, 0, 0, 0, 0, 0, 0, 0, 0, 0, 0, 0, 0,\n",
       "       0, 0, 0, 0, 0, 0, 0, 0, 0, 0, 0, 0, 0, 0, 0, 0, 0, 0, 0, 0, 0, 0,\n",
       "       0, 0, 0, 0, 0, 0, 0, 0, 0, 0, 0, 0, 0, 0, 0, 0, 0, 0, 0, 0, 0, 0,\n",
       "       0, 0, 0, 0, 0, 0, 0, 0, 0, 0, 0, 0, 0, 0, 0, 0, 0, 0, 0, 0, 0, 0,\n",
       "       0, 0, 0, 0, 0, 0, 0, 0, 0, 0, 0, 0, 0, 0, 0, 0, 0, 0, 0, 0, 0, 0,\n",
       "       0, 0, 0, 0, 0, 0, 0, 0, 0, 0, 0, 0, 0, 0, 0, 0, 0, 0, 0, 0, 0, 0,\n",
       "       0, 0, 0, 0, 0, 0, 0, 0, 0, 0, 0, 0, 0, 0, 0, 0, 0, 0, 0, 0, 0, 0,\n",
       "       0, 0, 1, 0, 0, 0, 0, 1, 0, 0, 0, 0, 0, 0, 0, 0, 0, 0, 0, 0, 0, 0,\n",
       "       0, 1, 0, 0, 0, 0, 0, 0, 0, 0, 0, 0, 1, 0, 0, 0, 0, 0, 0, 0, 0, 0,\n",
       "       0, 0, 0, 0, 0, 0, 0, 0, 0, 0, 0, 1, 0, 0, 0, 0, 0, 0, 0, 0, 0, 1,\n",
       "       1, 1, 1, 1, 1, 1, 1, 1, 1, 1, 1, 1, 1, 1, 1, 1, 1, 0, 1, 1, 1, 1,\n",
       "       1, 1, 1, 1, 1, 1, 1, 1, 1, 1, 1, 0, 0, 0, 1, 0, 0, 1, 1, 1, 1, 1,\n",
       "       1, 1, 1, 1, 0, 1, 1, 1, 1, 1, 1, 1, 1, 1, 1, 1, 1, 1, 1, 1, 1, 1,\n",
       "       1, 1, 1, 1, 1, 1, 1, 1, 1, 1, 1, 1, 1, 0, 1, 1, 1, 1, 1, 0, 1, 0,\n",
       "       0, 0, 0, 0, 0, 0, 0, 0, 0, 0, 0, 0, 1, 1, 1, 1, 1, 0, 0, 0, 0, 0,\n",
       "       0, 0, 0, 0, 1, 1, 1, 1, 0, 0, 0, 0, 0, 0, 0, 0, 1, 0, 0, 0, 0, 0],\n",
       "      dtype=int64)"
      ]
     },
     "execution_count": 7,
     "metadata": {},
     "output_type": "execute_result"
    }
   ],
   "source": [
    "# forming our classifying object (based on linear discriminant analysis model)\n",
    "clf_lda = LinearDiscriminantAnalysis()\n",
    "\n",
    "# fitting our variables into our classifying object\n",
    "clf_lda.fit(x,y)\n",
    "\n",
    "# predicting values of dependent variable\n",
    "y_pred_lda = clf_lda.predict(x)\n"
   ]
  },
  {
   "cell_type": "markdown",
   "id": "369c8ce6",
   "metadata": {},
   "source": [
    "#  Linear Discriminant Analysis with MULTIPLE predictors"
   ]
  },
  {
   "cell_type": "markdown",
   "id": "0293301a",
   "metadata": {},
   "source": [
    "# Confusion Matrix and evaluating performance"
   ]
  },
  {
   "cell_type": "code",
   "execution_count": 6,
   "id": "fd1739e0",
   "metadata": {},
   "outputs": [
    {
     "data": {
      "text/plain": [
       "array([[210,  66],\n",
       "       [166,  64]], dtype=int64)"
      ]
     },
     "execution_count": 6,
     "metadata": {},
     "output_type": "execute_result"
    }
   ],
   "source": [
    "# analyzing performance of classifying object based on confusion matrix\n",
    "confusion_matrix(y, y_pred_lda)"
   ]
  }
 ],
 "metadata": {
  "kernelspec": {
   "display_name": "Python 3 (ipykernel)",
   "language": "python",
   "name": "python3"
  },
  "language_info": {
   "codemirror_mode": {
    "name": "ipython",
    "version": 3
   },
   "file_extension": ".py",
   "mimetype": "text/x-python",
   "name": "python",
   "nbconvert_exporter": "python",
   "pygments_lexer": "ipython3",
   "version": "3.9.6"
  }
 },
 "nbformat": 4,
 "nbformat_minor": 5
}
