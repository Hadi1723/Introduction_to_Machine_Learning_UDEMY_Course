{
 "cells": [
  {
   "cell_type": "code",
   "execution_count": 1,
   "id": "19fe2a25",
   "metadata": {},
   "outputs": [],
   "source": [
    "# STEP 1: LOADING THE DATA FRAME\n",
    "\n",
    "# importing relevent libraries\n",
    "import pandas as pd\n",
    "import seaborn as sns\n",
    "import numpy as np\n",
    "import statistics as stats\n",
    "from sklearn.linear_model import LogisticRegression\n",
    "import statsmodels.api as sn\n",
    "import statsmodels.discrete.discrete_model as sm\n",
    "from sklearn.metrics import confusion_matrix, accuracy_score\n",
    "from sklearn.metrics import precision_score, recall_score\n",
    "from sklearn.metrics import roc_auc_score\n",
    "from sklearn.model_selection import train_test_split\n",
    "from  sklearn import preprocessing\n",
    "from sklearn.neighbors import KNeighborsClassifier\n",
    "\n",
    "\n",
    "# reading our data frame\n",
    "data = pd.read_csv(\"House-Price.csv\", header = 0)\n",
    "\n",
    "# Transforming variables\n",
    "sums = [data.dist1, data.dist2, data.dist3, data.dist4]\n",
    "data['avg_dis'] = sum(sums) / len(sums)\n",
    "del data['dist1']\n",
    "del data['dist2']\n",
    "del data['dist3']\n",
    "del data['dist4']\n",
    "\n",
    "# Removing outliers\n",
    "data.n_hos_beds = data.n_hos_beds.fillna(data.n_hos_beds.mean())\n",
    "\n",
    "# Adding Dummy variables\n",
    "data = pd.get_dummies(data)\n",
    "del data[\"airport_NO\"]\n",
    "del data[\"waterbody_None\"]"
   ]
  },
  {
   "cell_type": "code",
   "execution_count": 2,
   "id": "a4cdc889",
   "metadata": {},
   "outputs": [],
   "source": [
    "# independent variable\n",
    "x = data[['price']]\n",
    "x.head()\n",
    "\n",
    "\n",
    "# dependent variable\n",
    "y = data['Sold']"
   ]
  },
  {
   "cell_type": "markdown",
   "id": "229f2ac8",
   "metadata": {},
   "source": [
    "# Training our Data"
   ]
  },
  {
   "cell_type": "code",
   "execution_count": 3,
   "id": "582caaa3",
   "metadata": {},
   "outputs": [
    {
     "data": {
      "text/plain": [
       "array([[44, 14],\n",
       "       [30, 14]], dtype=int64)"
      ]
     },
     "execution_count": 3,
     "metadata": {},
     "output_type": "execute_result"
    }
   ],
   "source": [
    "# Splitting our data set\n",
    "x_train, x_test, y_train, y_test = train_test_split(x,y,test_size = 0.2, random_state = 0)\n",
    "\n",
    "# Creating a classifying object (in form of logistic regression model) to train our training data set\n",
    "clf_TrainingModel = LogisticRegression()\n",
    "\n",
    "# Fitting our variables into our classifying object\n",
    "clf_TrainingModel.fit(x_train, y_train)\n",
    "\n",
    "# predicting/testing the values of dependent variable based on our model\n",
    "y_test_pred = clf_TrainingModel.predict(x_test)\n",
    "\n",
    "# assessing the accuracy/performance of the model using a confusion matrix\n",
    "confusion_matrix(y_test, y_test_pred)\n",
    "\n",
    "#accuracy_score(y_test, y_test_pred)\n",
    "#roc_auc_score(y_test, y_test_pred)"
   ]
  },
  {
   "cell_type": "markdown",
   "id": "cbfa100a",
   "metadata": {},
   "source": [
    "# K-Nearest Nei"
   ]
  },
  {
   "cell_type": "code",
   "execution_count": null,
   "id": "47e7594b",
   "metadata": {},
   "outputs": [],
   "source": []
  }
 ],
 "metadata": {
  "kernelspec": {
   "display_name": "Python 3 (ipykernel)",
   "language": "python",
   "name": "python3"
  },
  "language_info": {
   "codemirror_mode": {
    "name": "ipython",
    "version": 3
   },
   "file_extension": ".py",
   "mimetype": "text/x-python",
   "name": "python",
   "nbconvert_exporter": "python",
   "pygments_lexer": "ipython3",
   "version": "3.9.6"
  }
 },
 "nbformat": 4,
 "nbformat_minor": 5
}
