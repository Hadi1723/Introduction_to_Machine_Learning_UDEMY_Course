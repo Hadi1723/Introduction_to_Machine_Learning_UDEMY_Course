{
 "cells": [
  {
   "cell_type": "code",
   "execution_count": 10,
   "id": "19fe2a25",
   "metadata": {},
   "outputs": [],
   "source": [
    "# STEP 1: LOADING THE DATA FRAME\n",
    "\n",
    "# importing relevent libraries\n",
    "import pandas as pd\n",
    "import seaborn as sns\n",
    "import numpy as np\n",
    "import statistics as stats\n",
    "from sklearn.linear_model import LogisticRegression\n",
    "import statsmodels.api as sn\n",
    "import statsmodels.discrete.discrete_model as sm\n",
    "from sklearn.metrics import confusion_matrix, accuracy_score\n",
    "from sklearn.metrics import precision_score, recall_score\n",
    "from sklearn.metrics import roc_auc_score\n",
    "from sklearn.model_selection import train_test_split\n",
    "from  sklearn import preprocessing\n",
    "from sklearn.neighbors import KNeighborsClassifier\n",
    "from sklearn.model_selection import GridSearchCV\n",
    "\n",
    "# reading our data frame\n",
    "data = pd.read_csv(\"House-Price.csv\", header = 0)\n",
    "\n",
    "# Transforming variables\n",
    "sums = [data.dist1, data.dist2, data.dist3, data.dist4]\n",
    "data['avg_dis'] = sum(sums) / len(sums)\n",
    "del data['dist1']\n",
    "del data['dist2']\n",
    "del data['dist3']\n",
    "del data['dist4']\n",
    "\n",
    "# Removing missing values\n",
    "data.n_hos_beds = data.n_hos_beds.fillna(data.n_hos_beds.mean())\n",
    "\n",
    "# Adding Dummy variables\n",
    "data = pd.get_dummies(data)\n",
    "del data[\"airport_NO\"]\n",
    "del data[\"waterbody_None\"]"
   ]
  },
  {
   "cell_type": "code",
   "execution_count": 3,
   "id": "a4cdc889",
   "metadata": {},
   "outputs": [],
   "source": [
    "# independent variable\n",
    "x = data[['price']]\n",
    "x.head()\n",
    "\n",
    "\n",
    "# dependent variable\n",
    "y = data['Sold']"
   ]
  },
  {
   "cell_type": "markdown",
   "id": "229f2ac8",
   "metadata": {},
   "source": [
    "# Training our Data"
   ]
  },
  {
   "cell_type": "code",
   "execution_count": 5,
   "id": "582caaa3",
   "metadata": {},
   "outputs": [
    {
     "data": {
      "text/plain": [
       "array([[44, 14],\n",
       "       [30, 14]], dtype=int64)"
      ]
     },
     "execution_count": 5,
     "metadata": {},
     "output_type": "execute_result"
    }
   ],
   "source": [
    "# Splitting our data set\n",
    "x_train, x_test, y_train, y_test = train_test_split(x,y,test_size = 0.2, random_state = 0)\n",
    "\n",
    "# Creating a classifying object (in form of logistic regression model) to train our training data set\n",
    "clf_TrainingModel = LogisticRegression()\n",
    "\n",
    "# Fitting our variables into our classifying object\n",
    "clf_TrainingModel.fit(x_train, y_train)\n",
    "\n",
    "# predicting/testing the values of dependent variable based on our model\n",
    "y_test_pred = clf_TrainingModel.predict(x_test)\n",
    "\n",
    "# assessing the accuracy/performance of the model using a confusion matrix\n",
    "confusion_matrix(y_test, y_test_pred)\n",
    "\n",
    "#accuracy_score(y_test, y_test_pred)\n",
    "#roc_auc_score(y_test, y_test_pred)"
   ]
  },
  {
   "cell_type": "markdown",
   "id": "9d5a4302",
   "metadata": {},
   "source": [
    "# K-Nearest Neighbors Classifying Approach for SINGLE values of K"
   ]
  },
  {
   "cell_type": "code",
   "execution_count": 6,
   "id": "47e7594b",
   "metadata": {},
   "outputs": [],
   "source": [
    "# standarizing our independent variables for training set\n",
    "scalerTrain = preprocessing.StandardScaler().fit(x_train)\n",
    "x_train_standard = scalerTrain.transform(x_train)\n",
    "\n",
    "# standarizing our independent variables for training set\n",
    "scalerTest = preprocessing.StandardScaler().fit(x_test)\n",
    "x_test_standard = scalerTest.transform(x_test)"
   ]
  },
  {
   "cell_type": "code",
   "execution_count": 7,
   "id": "f718c32b",
   "metadata": {},
   "outputs": [
    {
     "data": {
      "text/plain": [
       "0.5294117647058824"
      ]
     },
     "execution_count": 7,
     "metadata": {},
     "output_type": "execute_result"
    }
   ],
   "source": [
    "# creating our classifying object using the KNN approach\n",
    "        # NOTE: \"n_neighbors = 1\" refers to k-value\n",
    "knnObject1 = KNeighborsClassifier(n_neighbors = 1)\n",
    "\n",
    "# fitting our variables into our classifying object\n",
    "knnObject1.fit(x_train_standard, y_train)\n",
    "\n",
    "# predicting/testing the values of dependent variable based on our model\n",
    "knnObject1_pred = knnObject1.predict(x_test_standard)\n",
    "\n",
    "# assessing the accuracy/performance of the model using a confusion matrix\n",
    "confusion_matrix(y_test, knnObject1_pred)\n",
    "accuracy_score(y_test, knnObject1_pred)\n",
    "\n",
    "#roc_auc_score(y_test, y_test_pred)"
   ]
  },
  {
   "cell_type": "markdown",
   "id": "e82a1adc",
   "metadata": {},
   "source": [
    "## Creating a single KNN classifying object for MULTIPLE values of K"
   ]
  },
  {
   "cell_type": "code",
   "execution_count": 9,
   "id": "053ea284",
   "metadata": {},
   "outputs": [
    {
     "data": {
      "text/plain": [
       "0.5294117647058824"
      ]
     },
     "execution_count": 9,
     "metadata": {},
     "output_type": "execute_result"
    }
   ],
   "source": [
    "\n",
    "\n",
    "valuesOfK = {'n_neighbors': [i for i in range(1,11)]}\n",
    "\n",
    "# creating our classifying objects based on KNN approach\n",
    "grid_search_cv = GridSearchCV(KNeighborsClassifier(), valuesOfK)\n",
    "\n",
    "# fitting our training data variables into all of our models\n",
    "grid_search_cv.fit(x_train_standard, y_train)\n",
    "\n",
    "# finding the best value of k from the list of k-values assigned to model\n",
    "grid_search_cv.best_params_\n",
    "\n",
    "# chossing the best clasifying object model\n",
    "optimized_KNN = grid_search_cv.best_estimator_\n",
    "\n",
    "# predicting the values/classes of the dependent variable based on optimim classifying object model created\n",
    "y_test_pred = optimized_KNN.predict(x_test_standard)\n",
    "\n",
    "\n",
    "# analysing the performance of our classifying object mode;\n",
    "confusion_matrix(y_test, y_test_pred)\n",
    "accuracy_score(y_test, y_test_pred)"
   ]
  }
 ],
 "metadata": {
  "kernelspec": {
   "display_name": "Python 3 (ipykernel)",
   "language": "python",
   "name": "python3"
  },
  "language_info": {
   "codemirror_mode": {
    "name": "ipython",
    "version": 3
   },
   "file_extension": ".py",
   "mimetype": "text/x-python",
   "name": "python",
   "nbconvert_exporter": "python",
   "pygments_lexer": "ipython3",
   "version": "3.9.6"
  }
 },
 "nbformat": 4,
 "nbformat_minor": 5
}
