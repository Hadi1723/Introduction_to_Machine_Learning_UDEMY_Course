{
 "cells": [
  {
   "cell_type": "code",
   "execution_count": 55,
   "id": "c4e62302",
   "metadata": {},
   "outputs": [],
   "source": [
    "# STEP 1: LOADING THE DATA FRAME\n",
    "\n",
    "# importing relevent libraries\n",
    "import pandas as pd\n",
    "import seaborn as sns\n",
    "import numpy as np\n",
    "import statistics as stats\n",
    "from sklearn.linear_model import LogisticRegression\n",
    "import statsmodels.api as sn\n",
    "import statsmodels.discrete.discrete_model as sm\n",
    "from sklearn.metrics import confusion_matrix\n",
    "from sklearn.metrics import precision_score, recall_score\n",
    "from sklearn.metrics import roc_auc_score\n",
    "\n",
    "# reading our data frame\n",
    "data = pd.read_csv(\"House-Price.csv\", header = 0)\n",
    "\n",
    "# Transforming variables\n",
    "sums = [data.dist1, data.dist2, data.dist3, data.dist4]\n",
    "data['avg_dis'] = sum(sums) / len(sums)\n",
    "del data['dist1']\n",
    "del data['dist2']\n",
    "del data['dist3']\n",
    "del data['dist4']\n",
    "\n",
    "# Removing outliers\n",
    "data.n_hos_beds = data.n_hos_beds.fillna(data.n_hos_beds.mean())\n",
    "\n",
    "# Adding Dummy variables\n",
    "data = pd.get_dummies(data)\n",
    "del data[\"airport_NO\"]\n",
    "del data[\"waterbody_None\"]"
   ]
  },
  {
   "cell_type": "code",
   "execution_count": 20,
   "id": "d5858270",
   "metadata": {},
   "outputs": [],
   "source": [
    "# independent variable\n",
    "x = data[['price']]\n",
    "x.head()\n",
    "\n",
    "\n",
    "# dependent variable\n",
    "y = data['Sold']"
   ]
  },
  {
   "cell_type": "markdown",
   "id": "e00555a6",
   "metadata": {},
   "source": [
    "# Logictic Regression with SINGLE predictor"
   ]
  },
  {
   "cell_type": "code",
   "execution_count": 44,
   "id": "c40e8df1",
   "metadata": {},
   "outputs": [
    {
     "name": "stdout",
     "output_type": "stream",
     "text": [
      "[[-0.24829337 -0.013714   -0.14838597  0.82242496 -0.00547886  0.23873918\n",
      "  -0.21745025  0.15973497 -0.07733501 -0.00693305 -0.00704927 -0.32478988\n",
      "  -0.12461451 -0.06244828 -0.01464801  0.17000533  0.0040346 ]] [0.00573129]\n"
     ]
    },
    {
     "name": "stderr",
     "output_type": "stream",
     "text": [
      "c:\\users\\abdul\\appdata\\local\\programs\\python\\python39\\lib\\site-packages\\sklearn\\linear_model\\_logistic.py:814: ConvergenceWarning: lbfgs failed to converge (status=1):\n",
      "STOP: TOTAL NO. of ITERATIONS REACHED LIMIT.\n",
      "\n",
      "Increase the number of iterations (max_iter) or scale the data as shown in:\n",
      "    https://scikit-learn.org/stable/modules/preprocessing.html\n",
      "Please also refer to the documentation for alternative solver options:\n",
      "    https://scikit-learn.org/stable/modules/linear_model.html#logistic-regression\n",
      "  n_iter_i = _check_optimize_result(\n"
     ]
    },
    {
     "data": {
      "text/plain": [
       "array([[1.23489690e-01, 8.76510310e-01],\n",
       "       [3.79394369e-01, 6.20605631e-01],\n",
       "       [9.99548346e-01, 4.51654128e-04],\n",
       "       ...,\n",
       "       [2.73547825e-01, 7.26452175e-01],\n",
       "       [2.72884831e-01, 7.27115169e-01],\n",
       "       [1.71142583e-01, 8.28857417e-01]])"
      ]
     },
     "execution_count": 44,
     "metadata": {},
     "output_type": "execute_result"
    }
   ],
   "source": [
    "# Training a simple logistic model through sktlearn\n",
    "\n",
    "# First, create classification object\n",
    "clf_lrSingleVariable = LogisticRegression()\n",
    "\n",
    "# Second, fit that object using our independent and dependent variables\n",
    "clf_lrSingleVariable.fit(x,y)\n",
    "print(clf_lrSingleVariable.coef_, clf_lrSingleVariable.intercept_)\n",
    "\n",
    "# Third, predict our dependent variable using that trained classification model\n",
    "        # This is based on formula on slides\n",
    "clf_lrSingleVariable.predict_proba(x)"
   ]
  },
  {
   "cell_type": "code",
   "execution_count": 22,
   "id": "2517d3dd",
   "metadata": {},
   "outputs": [
    {
     "name": "stdout",
     "output_type": "stream",
     "text": [
      "Optimization terminated successfully.\n",
      "         Current function value: 0.676690\n",
      "         Iterations 5\n"
     ]
    },
    {
     "data": {
      "text/html": [
       "<table class=\"simpletable\">\n",
       "<caption>Logit Regression Results</caption>\n",
       "<tr>\n",
       "  <th>Dep. Variable:</th>         <td>Sold</td>       <th>  No. Observations:  </th>  <td>   506</td>  \n",
       "</tr>\n",
       "<tr>\n",
       "  <th>Model:</th>                 <td>Logit</td>      <th>  Df Residuals:      </th>  <td>   504</td>  \n",
       "</tr>\n",
       "<tr>\n",
       "  <th>Method:</th>                 <td>MLE</td>       <th>  Df Model:          </th>  <td>     1</td>  \n",
       "</tr>\n",
       "<tr>\n",
       "  <th>Date:</th>            <td>Sat, 07 May 2022</td> <th>  Pseudo R-squ.:     </th>  <td>0.01788</td> \n",
       "</tr>\n",
       "<tr>\n",
       "  <th>Time:</th>                <td>10:56:29</td>     <th>  Log-Likelihood:    </th> <td> -342.41</td> \n",
       "</tr>\n",
       "<tr>\n",
       "  <th>converged:</th>             <td>True</td>       <th>  LL-Null:           </th> <td> -348.64</td> \n",
       "</tr>\n",
       "<tr>\n",
       "  <th>Covariance Type:</th>     <td>nonrobust</td>    <th>  LLR p-value:       </th> <td>0.0004142</td>\n",
       "</tr>\n",
       "</table>\n",
       "<table class=\"simpletable\">\n",
       "<tr>\n",
       "    <td></td>       <th>coef</th>     <th>std err</th>      <th>z</th>      <th>P>|z|</th>  <th>[0.025</th>    <th>0.975]</th>  \n",
       "</tr>\n",
       "<tr>\n",
       "  <th>const</th> <td>    0.6149</td> <td>    0.248</td> <td>    2.484</td> <td> 0.013</td> <td>    0.130</td> <td>    1.100</td>\n",
       "</tr>\n",
       "<tr>\n",
       "  <th>price</th> <td>   -0.0357</td> <td>    0.010</td> <td>   -3.417</td> <td> 0.001</td> <td>   -0.056</td> <td>   -0.015</td>\n",
       "</tr>\n",
       "</table>"
      ],
      "text/plain": [
       "<class 'statsmodels.iolib.summary.Summary'>\n",
       "\"\"\"\n",
       "                           Logit Regression Results                           \n",
       "==============================================================================\n",
       "Dep. Variable:                   Sold   No. Observations:                  506\n",
       "Model:                          Logit   Df Residuals:                      504\n",
       "Method:                           MLE   Df Model:                            1\n",
       "Date:                Sat, 07 May 2022   Pseudo R-squ.:                 0.01788\n",
       "Time:                        10:56:29   Log-Likelihood:                -342.41\n",
       "converged:                       True   LL-Null:                       -348.64\n",
       "Covariance Type:            nonrobust   LLR p-value:                 0.0004142\n",
       "==============================================================================\n",
       "                 coef    std err          z      P>|z|      [0.025      0.975]\n",
       "------------------------------------------------------------------------------\n",
       "const          0.6149      0.248      2.484      0.013       0.130       1.100\n",
       "price         -0.0357      0.010     -3.417      0.001      -0.056      -0.015\n",
       "==============================================================================\n",
       "\"\"\""
      ]
     },
     "execution_count": 22,
     "metadata": {},
     "output_type": "execute_result"
    }
   ],
   "source": [
    "# Training a simple logistic model through stats library\n",
    "\n",
    "# by default, no constant is not included. So we must include it MANUALLY\n",
    "\n",
    "# adding the constant (B0) manually\n",
    "x_constant = sn.add_constant(x)\n",
    "x_constant.head()\n",
    "\n",
    "# creating the classification object(while also including the constant (B0)) and fitting our variables\n",
    "logit = sm.Logit(y,x_constant).fit()\n",
    "\n",
    "# Here, we are viewing a summary of our logistic model (not possible through sktlearn model)\n",
    "logit.summary()"
   ]
  },
  {
   "cell_type": "markdown",
   "id": "369c8ce6",
   "metadata": {},
   "source": [
    "# Logistic Regression with MULTIPLE predictors"
   ]
  },
  {
   "cell_type": "code",
   "execution_count": 42,
   "id": "c851611a",
   "metadata": {},
   "outputs": [
    {
     "name": "stdout",
     "output_type": "stream",
     "text": [
      "[[-0.24829337 -0.013714   -0.14838597  0.82242496 -0.00547886  0.23873918\n",
      "  -0.21745025  0.15973497 -0.07733501 -0.00693305 -0.00704927 -0.32478988\n",
      "  -0.12461451 -0.06244828 -0.01464801  0.17000533  0.0040346 ]] [0.00573129]\n"
     ]
    },
    {
     "name": "stderr",
     "output_type": "stream",
     "text": [
      "c:\\users\\abdul\\appdata\\local\\programs\\python\\python39\\lib\\site-packages\\sklearn\\linear_model\\_logistic.py:814: ConvergenceWarning: lbfgs failed to converge (status=1):\n",
      "STOP: TOTAL NO. of ITERATIONS REACHED LIMIT.\n",
      "\n",
      "Increase the number of iterations (max_iter) or scale the data as shown in:\n",
      "    https://scikit-learn.org/stable/modules/preprocessing.html\n",
      "Please also refer to the documentation for alternative solver options:\n",
      "    https://scikit-learn.org/stable/modules/linear_model.html#logistic-regression\n",
      "  n_iter_i = _check_optimize_result(\n"
     ]
    },
    {
     "data": {
      "text/plain": [
       "array([[1.23489690e-01, 8.76510310e-01],\n",
       "       [3.79394369e-01, 6.20605631e-01],\n",
       "       [9.99548346e-01, 4.51654128e-04],\n",
       "       ...,\n",
       "       [2.73547825e-01, 7.26452175e-01],\n",
       "       [2.72884831e-01, 7.27115169e-01],\n",
       "       [1.71142583e-01, 8.28857417e-01]])"
      ]
     },
     "execution_count": 42,
     "metadata": {},
     "output_type": "execute_result"
    }
   ],
   "source": [
    "# USING SKTLEARN\n",
    "\n",
    "# STEP 1: CREATING INDEPENDENT AND DEPENDENT VARIABLES\n",
    "\n",
    "# independent variables(s)\n",
    "x = data.loc[:, data.columns != 'Sold']\n",
    "# dependent variable\n",
    "y = data['Sold']\n",
    "\n",
    "# STEP 2: CREATING OUR LOGISTIC REGRESSION MODEL AND FITTING OUR VARIABLES\n",
    "clf_lrMULTIVARIABLE = LogisticRegression()\n",
    "clf_lrMULTIVARIABLE.fit(x,y)\n",
    "\n",
    "print(clf_lrMULTIVARIABLE.coef_, clf_lrMULTIVARIABLE.\n",
    "      intercept_)\n",
    "# STEP 3: PREDICTING DEPENDENT VARIABLE VALUES BASED ON EQUATION FROM SLIDES\n",
    "clf_lrMULTIVARIABLE.predict_proba(x)"
   ]
  },
  {
   "cell_type": "code",
   "execution_count": 40,
   "id": "2a0ba0a7",
   "metadata": {},
   "outputs": [
    {
     "name": "stdout",
     "output_type": "stream",
     "text": [
      "Optimization terminated successfully.\n",
      "         Current function value: 0.556191\n",
      "         Iterations 7\n"
     ]
    },
    {
     "data": {
      "text/html": [
       "<table class=\"simpletable\">\n",
       "<caption>Logit Regression Results</caption>\n",
       "<tr>\n",
       "  <th>Dep. Variable:</th>         <td>Sold</td>       <th>  No. Observations:  </th>  <td>   506</td>  \n",
       "</tr>\n",
       "<tr>\n",
       "  <th>Model:</th>                 <td>Logit</td>      <th>  Df Residuals:      </th>  <td>   489</td>  \n",
       "</tr>\n",
       "<tr>\n",
       "  <th>Method:</th>                 <td>MLE</td>       <th>  Df Model:          </th>  <td>    16</td>  \n",
       "</tr>\n",
       "<tr>\n",
       "  <th>Date:</th>            <td>Sat, 07 May 2022</td> <th>  Pseudo R-squ.:     </th>  <td>0.1928</td>  \n",
       "</tr>\n",
       "<tr>\n",
       "  <th>Time:</th>                <td>13:00:58</td>     <th>  Log-Likelihood:    </th> <td> -281.43</td> \n",
       "</tr>\n",
       "<tr>\n",
       "  <th>converged:</th>             <td>True</td>       <th>  LL-Null:           </th> <td> -348.64</td> \n",
       "</tr>\n",
       "<tr>\n",
       "  <th>Covariance Type:</th>     <td>nonrobust</td>    <th>  LLR p-value:       </th> <td>8.894e-21</td>\n",
       "</tr>\n",
       "</table>\n",
       "<table class=\"simpletable\">\n",
       "<tr>\n",
       "              <td></td>                <th>coef</th>     <th>std err</th>      <th>z</th>      <th>P>|z|</th>  <th>[0.025</th>    <th>0.975]</th>  \n",
       "</tr>\n",
       "<tr>\n",
       "  <th>price</th>                    <td>   -0.2739</td> <td>    0.033</td> <td>   -8.315</td> <td> 0.000</td> <td>   -0.338</td> <td>   -0.209</td>\n",
       "</tr>\n",
       "<tr>\n",
       "  <th>resid_area</th>               <td>    0.0197</td> <td>    0.027</td> <td>    0.738</td> <td> 0.461</td> <td>   -0.033</td> <td>    0.072</td>\n",
       "</tr>\n",
       "<tr>\n",
       "  <th>air_qual</th>                 <td>   -7.4281</td> <td>    2.691</td> <td>   -2.761</td> <td> 0.006</td> <td>  -12.702</td> <td>   -2.154</td>\n",
       "</tr>\n",
       "<tr>\n",
       "  <th>room_num</th>                 <td>    1.1092</td> <td>    0.277</td> <td>    4.010</td> <td> 0.000</td> <td>    0.567</td> <td>    1.651</td>\n",
       "</tr>\n",
       "<tr>\n",
       "  <th>age</th>                      <td>   -0.0020</td> <td>    0.007</td> <td>   -0.302</td> <td> 0.763</td> <td>   -0.015</td> <td>    0.011</td>\n",
       "</tr>\n",
       "<tr>\n",
       "  <th>teachers</th>                 <td>    0.3152</td> <td>    0.064</td> <td>    4.941</td> <td> 0.000</td> <td>    0.190</td> <td>    0.440</td>\n",
       "</tr>\n",
       "<tr>\n",
       "  <th>poor_prop</th>                <td>   -0.2073</td> <td>    0.034</td> <td>   -6.140</td> <td> 0.000</td> <td>   -0.273</td> <td>   -0.141</td>\n",
       "</tr>\n",
       "<tr>\n",
       "  <th>n_hos_beds</th>               <td>    0.1759</td> <td>    0.071</td> <td>    2.467</td> <td> 0.014</td> <td>    0.036</td> <td>    0.316</td>\n",
       "</tr>\n",
       "<tr>\n",
       "  <th>n_hot_rooms</th>              <td>   -0.0644</td> <td>    0.055</td> <td>   -1.169</td> <td> 0.242</td> <td>   -0.173</td> <td>    0.044</td>\n",
       "</tr>\n",
       "<tr>\n",
       "  <th>rainfall</th>                 <td>   -0.0035</td> <td>    0.008</td> <td>   -0.423</td> <td> 0.673</td> <td>   -0.020</td> <td>    0.013</td>\n",
       "</tr>\n",
       "<tr>\n",
       "  <th>parks</th>                    <td>   28.9913</td> <td>   24.167</td> <td>    1.200</td> <td> 0.230</td> <td>  -18.375</td> <td>   76.357</td>\n",
       "</tr>\n",
       "<tr>\n",
       "  <th>avg_dis</th>                  <td>   -0.4015</td> <td>    0.098</td> <td>   -4.115</td> <td> 0.000</td> <td>   -0.593</td> <td>   -0.210</td>\n",
       "</tr>\n",
       "<tr>\n",
       "  <th>airport_YES</th>              <td>   -0.1548</td> <td>    0.211</td> <td>   -0.735</td> <td> 0.462</td> <td>   -0.568</td> <td>    0.258</td>\n",
       "</tr>\n",
       "<tr>\n",
       "  <th>waterbody_Lake</th>           <td>   -0.1007</td> <td>    0.304</td> <td>   -0.331</td> <td> 0.740</td> <td>   -0.696</td> <td>    0.495</td>\n",
       "</tr>\n",
       "<tr>\n",
       "  <th>waterbody_Lake and River</th> <td>   -0.0649</td> <td>    0.328</td> <td>   -0.198</td> <td> 0.843</td> <td>   -0.708</td> <td>    0.578</td>\n",
       "</tr>\n",
       "<tr>\n",
       "  <th>waterbody_River</th>          <td>    0.2402</td> <td>    0.256</td> <td>    0.940</td> <td> 0.347</td> <td>   -0.261</td> <td>    0.741</td>\n",
       "</tr>\n",
       "<tr>\n",
       "  <th>bus_ter_YES</th>              <td>   -2.2894</td> <td>    2.667</td> <td>   -0.858</td> <td> 0.391</td> <td>   -7.517</td> <td>    2.938</td>\n",
       "</tr>\n",
       "</table>"
      ],
      "text/plain": [
       "<class 'statsmodels.iolib.summary.Summary'>\n",
       "\"\"\"\n",
       "                           Logit Regression Results                           \n",
       "==============================================================================\n",
       "Dep. Variable:                   Sold   No. Observations:                  506\n",
       "Model:                          Logit   Df Residuals:                      489\n",
       "Method:                           MLE   Df Model:                           16\n",
       "Date:                Sat, 07 May 2022   Pseudo R-squ.:                  0.1928\n",
       "Time:                        13:00:58   Log-Likelihood:                -281.43\n",
       "converged:                       True   LL-Null:                       -348.64\n",
       "Covariance Type:            nonrobust   LLR p-value:                 8.894e-21\n",
       "============================================================================================\n",
       "                               coef    std err          z      P>|z|      [0.025      0.975]\n",
       "--------------------------------------------------------------------------------------------\n",
       "price                       -0.2739      0.033     -8.315      0.000      -0.338      -0.209\n",
       "resid_area                   0.0197      0.027      0.738      0.461      -0.033       0.072\n",
       "air_qual                    -7.4281      2.691     -2.761      0.006     -12.702      -2.154\n",
       "room_num                     1.1092      0.277      4.010      0.000       0.567       1.651\n",
       "age                         -0.0020      0.007     -0.302      0.763      -0.015       0.011\n",
       "teachers                     0.3152      0.064      4.941      0.000       0.190       0.440\n",
       "poor_prop                   -0.2073      0.034     -6.140      0.000      -0.273      -0.141\n",
       "n_hos_beds                   0.1759      0.071      2.467      0.014       0.036       0.316\n",
       "n_hot_rooms                 -0.0644      0.055     -1.169      0.242      -0.173       0.044\n",
       "rainfall                    -0.0035      0.008     -0.423      0.673      -0.020       0.013\n",
       "parks                       28.9913     24.167      1.200      0.230     -18.375      76.357\n",
       "avg_dis                     -0.4015      0.098     -4.115      0.000      -0.593      -0.210\n",
       "airport_YES                 -0.1548      0.211     -0.735      0.462      -0.568       0.258\n",
       "waterbody_Lake              -0.1007      0.304     -0.331      0.740      -0.696       0.495\n",
       "waterbody_Lake and River    -0.0649      0.328     -0.198      0.843      -0.708       0.578\n",
       "waterbody_River              0.2402      0.256      0.940      0.347      -0.261       0.741\n",
       "bus_ter_YES                 -2.2894      2.667     -0.858      0.391      -7.517       2.938\n",
       "============================================================================================\n",
       "\"\"\""
      ]
     },
     "execution_count": 40,
     "metadata": {},
     "output_type": "execute_result"
    }
   ],
   "source": [
    "# USING STATSMODEL LIBRARY\n",
    "\n",
    "# STEP 1: CREATING INDEPENDENT AND DEPENDENT VARIABLES\n",
    "\n",
    "# independent variables(s)\n",
    "x = data.loc[:, data.columns != 'Sold']\n",
    "# dependent variable\n",
    "y = data['Sold']\n",
    "\n",
    "\n",
    "# STEP 2: ADDING B0 TO OUR LOGISTIC REGRESSION MODEL\n",
    "x_constant = sn.add_constant(x)\n",
    "\n",
    "\n",
    "# STEP 3: CREATING OUR LOGISTIC REGRESSION MODEL AND FITTING OUR VARIABLES\n",
    "logit = sm.Logit(y, x_constant).fit()\n",
    "\n",
    "logit.summary()"
   ]
  },
  {
   "cell_type": "markdown",
   "id": "0293301a",
   "metadata": {},
   "source": [
    "# Confusion Matrix and evaluating performance"
   ]
  },
  {
   "cell_type": "code",
   "execution_count": 54,
   "id": "7592a7a8",
   "metadata": {},
   "outputs": [
    {
     "name": "stdout",
     "output_type": "stream",
     "text": [
      "0.6833333333333333\n"
     ]
    }
   ],
   "source": [
    "# predicting dependent values for multivariable regression\n",
    "        # NOTE: this gives the probability of each class being assigned to each observation\n",
    "predictProbMany = clf_lrMULTIVARIABLE.predict_proba(x)\n",
    "\n",
    "# if the probability of \"True\" class being assigned is greater than 0.5, than that class will be assigned  \n",
    "predictMany = clf_lrMULTIVARIABLE.predict(x)\n",
    "\n",
    "# assigning boolean values to each entry of the array defined by \"predictMany\"\n",
    "y_pred05 = (predictProbMany[:,1]) >= 0.5\n",
    "y_pred05\n",
    "\n",
    "# creating the confusion matrix\n",
    "    # NOTE: the first argument represents acutal values of dependent variable\n",
    "    # NOTE: the second argument represent predicted values of dependent variable above the boundary threshold\n",
    "confusion_matrix(y, y_pred05)\n",
    "\n",
    "# Getting the precision score\n",
    "precision = precision_score(y, y_pred05)\n",
    "# Getting the recall score\n",
    "recall = recall_score(y, y_pred05)\n",
    "# Getting the ROC area score\n",
    "rocArea = roc_auc_score(y, y_pred05)\n",
    "\n",
    "print(rocArea)"
   ]
  },
  {
   "cell_type": "code",
   "execution_count": null,
   "id": "fd1739e0",
   "metadata": {},
   "outputs": [],
   "source": []
  }
 ],
 "metadata": {
  "kernelspec": {
   "display_name": "Python 3 (ipykernel)",
   "language": "python",
   "name": "python3"
  },
  "language_info": {
   "codemirror_mode": {
    "name": "ipython",
    "version": 3
   },
   "file_extension": ".py",
   "mimetype": "text/x-python",
   "name": "python",
   "nbconvert_exporter": "python",
   "pygments_lexer": "ipython3",
   "version": "3.9.6"
  }
 },
 "nbformat": 4,
 "nbformat_minor": 5
}
